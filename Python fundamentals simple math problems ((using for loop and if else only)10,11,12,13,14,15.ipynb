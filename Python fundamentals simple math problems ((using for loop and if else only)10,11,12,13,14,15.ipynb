{
 "cells": [
  {
   "cell_type": "markdown",
   "metadata": {},
   "source": [
    "### Problem10: Write a program that generates and prints so random intergers, each between 3 and 6"
   ]
  },
  {
   "cell_type": "code",
   "execution_count": 9,
   "metadata": {},
   "outputs": [
    {
     "name": "stdout",
     "output_type": "stream",
     "text": [
      "4 4 4 4 3 3 6 6 6 3 5 3 3 3 5 3 6 6 6 3 3 4 5 5 6 4 5 4 6 5 5 4 5 4 4 5 5 6 4 4 3 5 4 3 4 3 5 3 3 5 "
     ]
    }
   ],
   "source": [
    "from random import randint\n",
    "for i in range(50):\n",
    "    x=randint(3,6)\n",
    "    print(x,end=' ')"
   ]
  },
  {
   "cell_type": "markdown",
   "metadata": {},
   "source": [
    "### Problem11: Write a program that generates a random number. x between 1 and 50, a random number y between 2 and 5, and computes $x^{y}$"
   ]
  },
  {
   "cell_type": "code",
   "execution_count": 5,
   "metadata": {},
   "outputs": [
    {
     "name": "stdout",
     "output_type": "stream",
     "text": [
      "15 3 3375\n"
     ]
    }
   ],
   "source": [
    "from random import randint\n",
    "x=randint(1,50)\n",
    "y=randint(2,5)\n",
    "m=x**y\n",
    "print(x,y,m)"
   ]
  },
  {
   "cell_type": "markdown",
   "metadata": {},
   "source": [
    "### Problem12: Ask user to enter a number, print 50 random integers, each between a,b"
   ]
  },
  {
   "cell_type": "code",
   "execution_count": 8,
   "metadata": {},
   "outputs": [
    {
     "name": "stdout",
     "output_type": "stream",
     "text": [
      "Enter a number: 2\n",
      "Enter a number: 9\n",
      "8 5 9 4 8 9 2 8 4 7 5 2 5 7 5 7 2 5 3 8 8 4 7 3 6 5 8 3 2 9 8 3 3 9 5 8 4 2 6 2 4 7 7 2 6 3 2 8 4 6 "
     ]
    }
   ],
   "source": [
    "from random import randint\n",
    "a=eval(input('Enter a number: '))\n",
    "b=eval(input('Enter a number: '))\n",
    "for i in range(50):\n",
    "    x=randint(a,b)\n",
    "    print(x,end=' ')"
   ]
  },
  {
   "cell_type": "markdown",
   "metadata": {},
   "source": [
    "### Problem13: Write a program that generates a random number between 1 and 10 and prints your name that many times."
   ]
  },
  {
   "cell_type": "code",
   "execution_count": 16,
   "metadata": {},
   "outputs": [
    {
     "name": "stdout",
     "output_type": "stream",
     "text": [
      "10\n",
      "Ram\n",
      "Ram\n",
      "Ram\n",
      "Ram\n",
      "Ram\n",
      "Ram\n",
      "Ram\n",
      "Ram\n",
      "Ram\n",
      "Ram\n"
     ]
    }
   ],
   "source": [
    "from random import randint\n",
    "x=randint(1,10)\n",
    "print(x)\n",
    "for i in range(x):\n",
    "    i='Ram'\n",
    "    print(i)"
   ]
  },
  {
   "cell_type": "markdown",
   "metadata": {},
   "source": [
    "### Problem14: Write a program that generates 50 random numbers such that the first number is between 1 and 2, the second number is between 1 and 3, the third number is between 1 and 4....and the last between 1 and 51"
   ]
  },
  {
   "cell_type": "code",
   "execution_count": 48,
   "metadata": {},
   "outputs": [
    {
     "name": "stdout",
     "output_type": "stream",
     "text": [
      "1 2 1 4 6 2 5 6 9 3 2 4 10 11 10 16 18 3 10 9 7 16 14 13 16 24 11 22 30 9 9 19 3 25 15 11 7 16 35 31 17 10 25 7 11 46 45 4 2 17 "
     ]
    }
   ],
   "source": [
    "from random import randint\n",
    "for i in range(2,52,1):\n",
    "    x=randint(1,i)\n",
    "    print(x, end=' ')"
   ]
  },
  {
   "cell_type": "markdown",
   "metadata": {},
   "source": [
    "### Problem15: Write a program that asks the user to enter two numbers x and y, and computes (|x-y|)/(x+y)  Hint: Use the abs function"
   ]
  },
  {
   "cell_type": "code",
   "execution_count": 59,
   "metadata": {},
   "outputs": [
    {
     "name": "stdout",
     "output_type": "stream",
     "text": [
      "Enter a number: 1\n",
      "Enter a number: 2\n",
      "0.3333333333333333\n"
     ]
    }
   ],
   "source": [
    "x=eval(input('Enter a number: '))\n",
    "y=eval(input('Enter a number: '))\n",
    "print((abs(x-y))/(x+y))"
   ]
  },
  {
   "cell_type": "code",
   "execution_count": 56,
   "metadata": {},
   "outputs": [
    {
     "name": "stdout",
     "output_type": "stream",
     "text": [
      "Help on built-in function abs in module builtins:\n",
      "\n",
      "abs(x, /)\n",
      "    Return the absolute value of the argument.\n",
      "\n"
     ]
    }
   ],
   "source": [
    "help(abs)"
   ]
  },
  {
   "cell_type": "code",
   "execution_count": null,
   "metadata": {},
   "outputs": [],
   "source": []
  }
 ],
 "metadata": {
  "kernelspec": {
   "display_name": "Python 3",
   "language": "python",
   "name": "python3"
  },
  "language_info": {
   "codemirror_mode": {
    "name": "ipython",
    "version": 3
   },
   "file_extension": ".py",
   "mimetype": "text/x-python",
   "name": "python",
   "nbconvert_exporter": "python",
   "pygments_lexer": "ipython3",
   "version": "3.7.3"
  }
 },
 "nbformat": 4,
 "nbformat_minor": 2
}
