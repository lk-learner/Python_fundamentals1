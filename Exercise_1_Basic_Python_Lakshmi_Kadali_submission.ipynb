{
  "cells": [
    {
      "cell_type": "markdown",
      "metadata": {
        "id": "view-in-github",
        "colab_type": "text"
      },
      "source": [
        "<a href=\"https://colab.research.google.com/github/lk-learner/Python_fundamentals1/blob/master/Exercise_1_Basic_Python_Lakshmi_Kadali_submission.ipynb\" target=\"_parent\"><img src=\"https://colab.research.google.com/assets/colab-badge.svg\" alt=\"Open In Colab\"/></a>"
      ]
    },
    {
      "cell_type": "markdown",
      "source": [
        "##**Exercise-1 Basic Python : Submission by Lakshmi Kadali**"
      ],
      "metadata": {
        "id": "65pI5ZQVV3ua"
      }
    },
    {
      "cell_type": "markdown",
      "metadata": {
        "id": "nkcY7t6X0ZUL"
      },
      "source": [
        "# Python Basics\n",
        "\n"
      ]
    },
    {
      "cell_type": "markdown",
      "metadata": {
        "id": "1Vn1UkKI0ZUN"
      },
      "source": [
        "## Exercises"
      ]
    },
    {
      "cell_type": "markdown",
      "metadata": {
        "id": "ErQHqEGD0ZUN"
      },
      "source": [
        "### 1."
      ]
    },
    {
      "cell_type": "markdown",
      "metadata": {
        "id": "q85EE0Ea0ZUO"
      },
      "source": [
        "What is 5 to the power of 5?"
      ]
    },
    {
      "cell_type": "code",
      "execution_count": null,
      "metadata": {
        "id": "5lyJe3NV0ZUO",
        "colab": {
          "base_uri": "https://localhost:8080/"
        },
        "outputId": "1921421c-9741-4dda-9e61-401d2e018643"
      },
      "outputs": [
        {
          "output_type": "stream",
          "name": "stdout",
          "text": [
            "5 to the power of 5 =  3125\n"
          ]
        }
      ],
      "source": [
        "# Your answer here.\n",
        "print('5 to the power of 5 = ', 5**5)"
      ]
    },
    {
      "cell_type": "markdown",
      "metadata": {
        "id": "R3Ff_MkY0ZUQ"
      },
      "source": [
        "### 2."
      ]
    },
    {
      "cell_type": "markdown",
      "metadata": {
        "id": "-5FY10ds0ZUR"
      },
      "source": [
        "What is the remainder from dividing 73 by 6?"
      ]
    },
    {
      "cell_type": "code",
      "execution_count": null,
      "metadata": {
        "id": "R8eCPLBA0ZUS",
        "colab": {
          "base_uri": "https://localhost:8080/"
        },
        "outputId": "abf59863-16fa-4bfb-a874-bca9fc8636d0"
      },
      "outputs": [
        {
          "output_type": "stream",
          "name": "stdout",
          "text": [
            "Remainder from dividing 73 by 6 =  1\n"
          ]
        }
      ],
      "source": [
        "# Your answer here.\n",
        "print('Remainder from dividing 73 by 6 = ', 73%6)"
      ]
    },
    {
      "cell_type": "markdown",
      "metadata": {
        "id": "wpNhPc_r0ZUT"
      },
      "source": [
        "### 3."
      ]
    },
    {
      "cell_type": "markdown",
      "metadata": {
        "id": "Z1aBBlBn0ZUT"
      },
      "source": [
        "How many times does the whole number 3 go into 123? What is the remainder of dividing 123 by 3?"
      ]
    },
    {
      "cell_type": "code",
      "execution_count": null,
      "metadata": {
        "id": "m42KqrUc0ZUU",
        "colab": {
          "base_uri": "https://localhost:8080/"
        },
        "outputId": "c75bfc79-2ea4-4c07-9c29-312e736d4548"
      },
      "outputs": [
        {
          "output_type": "stream",
          "name": "stdout",
          "text": [
            "The number of times whole number 3 go into 123 =  41.0\n",
            "Remainder of dividing 123 by 3 =  0\n"
          ]
        }
      ],
      "source": [
        "# Your answer here.\n",
        "print('The number of times whole number 3 go into 123 = ', 123/3)\n",
        "print('Remainder of dividing 123 by 3 = ', 123%3)"
      ]
    },
    {
      "cell_type": "markdown",
      "metadata": {
        "id": "IHe7SYGV0ZUU"
      },
      "source": [
        "### 4."
      ]
    },
    {
      "cell_type": "markdown",
      "metadata": {
        "id": "T5LnO2bf0ZUV"
      },
      "source": [
        "Split the following string into a list by splitting on the space character:"
      ]
    },
    {
      "cell_type": "code",
      "execution_count": null,
      "metadata": {
        "id": "Nnt9lQH50ZUV",
        "colab": {
          "base_uri": "https://localhost:8080/"
        },
        "outputId": "b08cd3db-5e90-4ba2-d675-b62da93350ae"
      },
      "outputs": [
        {
          "output_type": "stream",
          "name": "stdout",
          "text": [
            "Splitting the string into a list by splitting on the space character =  ['MDS', 'is', 'going', 'virtual!']\n"
          ]
        },
        {
          "output_type": "execute_result",
          "data": {
            "text/plain": [
              "list"
            ]
          },
          "metadata": {},
          "execution_count": 4
        }
      ],
      "source": [
        "s = \"MDS is going virtual!\"\n",
        "\n",
        "# Your answer here.\n",
        "string_to_list = s.split()\n",
        "print('Splitting the string into a list by splitting on the space character = ', string_to_list)\n",
        "type(string_to_list)"
      ]
    },
    {
      "cell_type": "markdown",
      "metadata": {
        "id": "Pzphc6xU0ZUW"
      },
      "source": [
        "### 5."
      ]
    },
    {
      "cell_type": "markdown",
      "metadata": {
        "id": "SdnWbE9j0ZUX"
      },
      "source": [
        "Given the following variables:\n",
        "\n",
        "```\n",
        "thing = \"light\"\n",
        "speed = 299792458  # m/s\n",
        "```\n",
        "\n",
        "Use f-strings to print:\n",
        "\n",
        "```\n",
        "The speed of light is 2.997925e+08 m/s.\n",
        "```"
      ]
    },
    {
      "cell_type": "code",
      "execution_count": null,
      "metadata": {
        "id": "QUd42zH80ZUY",
        "colab": {
          "base_uri": "https://localhost:8080/",
          "height": 35
        },
        "outputId": "d863f8ef-4d92-48c4-e0b3-36c003c596b8"
      },
      "outputs": [
        {
          "output_type": "execute_result",
          "data": {
            "application/vnd.google.colaboratory.intrinsic+json": {
              "type": "string"
            },
            "text/plain": [
              "'The speed of light is 2.997925e+08 m/s.'"
            ]
          },
          "metadata": {},
          "execution_count": 1
        }
      ],
      "source": [
        "# Your answer here.\n",
        "thing = \"light\"\n",
        "speed = 299792458  # m/s\n",
        "f'The speed of {thing} is {speed:2e} m/s.'\n"
      ]
    },
    {
      "cell_type": "markdown",
      "metadata": {
        "id": "811Tfgfq0ZUY"
      },
      "source": [
        "### 6."
      ]
    },
    {
      "cell_type": "markdown",
      "metadata": {
        "id": "Z6R0yO6R0ZUY"
      },
      "source": [
        "Given this nested list, use indexing to grab the word \"MDS\":"
      ]
    },
    {
      "cell_type": "code",
      "execution_count": null,
      "metadata": {
        "id": "vTjkcca30ZUZ",
        "colab": {
          "base_uri": "https://localhost:8080/"
        },
        "outputId": "e0ee3024-ad7b-4458-b263-882184d6eb6f"
      },
      "outputs": [
        {
          "output_type": "stream",
          "name": "stdout",
          "text": [
            "['MDS']\n"
          ]
        }
      ],
      "source": [
        "l = [10, [3, 4], [5, [100, 200, [\"MDS\"]], 23, 11], 1, 7]\n",
        "\n",
        "# Your answer here.\n",
        "print(l[2][1][2])"
      ]
    },
    {
      "cell_type": "markdown",
      "metadata": {
        "id": "GBmPb_wp0ZUZ"
      },
      "source": [
        "### 7."
      ]
    },
    {
      "cell_type": "markdown",
      "metadata": {
        "id": "L1uARVR80ZUa"
      },
      "source": [
        "Given this nest dictionary grab the word \"MDS\":"
      ]
    },
    {
      "cell_type": "code",
      "execution_count": null,
      "metadata": {
        "id": "E7w6Y9Lg0ZUa",
        "colab": {
          "base_uri": "https://localhost:8080/"
        },
        "outputId": "ca828664-f72f-4caf-fa99-acb26a9445e5"
      },
      "outputs": [
        {
          "output_type": "stream",
          "name": "stdout",
          "text": [
            "MDS\n"
          ]
        }
      ],
      "source": [
        "d = {\n",
        "    \"outer\": [\n",
        "        1,\n",
        "        2,\n",
        "        3,\n",
        "        {\"inner\": [\"this\", \"is\", \"inception\", {\"inner_inner\": [1, 2, 3, \"MDS\"]}]},\n",
        "    ]\n",
        "}\n",
        "\n",
        "# Your answer here.\n",
        "print(d[\"outer\"][3][\"inner\"][3][\"inner_inner\"][3])"
      ]
    },
    {
      "cell_type": "markdown",
      "metadata": {
        "id": "rwbyFjUM0ZUb"
      },
      "source": [
        "### 8."
      ]
    },
    {
      "cell_type": "markdown",
      "metadata": {
        "id": "l0L8RmOT0ZUc"
      },
      "source": [
        "Why does the following cell return an error?"
      ]
    },
    {
      "cell_type": "code",
      "execution_count": null,
      "metadata": {
        "tags": [
          "raises-exception"
        ],
        "id": "7iN27bBU0ZUc",
        "outputId": "9193259f-8b24-4c85-da0a-acc96c9dede5",
        "colab": {
          "base_uri": "https://localhost:8080/",
          "height": 183
        }
      },
      "outputs": [
        {
          "output_type": "error",
          "ename": "TypeError",
          "evalue": "ignored",
          "traceback": [
            "\u001b[0;31m---------------------------------------------------------------------------\u001b[0m",
            "\u001b[0;31mTypeError\u001b[0m                                 Traceback (most recent call last)",
            "\u001b[0;32m<ipython-input-8-d668dd5b8bda>\u001b[0m in \u001b[0;36m<module>\u001b[0;34m()\u001b[0m\n\u001b[1;32m      1\u001b[0m \u001b[0mt\u001b[0m \u001b[0;34m=\u001b[0m \u001b[0;34m(\u001b[0m\u001b[0;36m1\u001b[0m\u001b[0;34m,\u001b[0m \u001b[0;36m2\u001b[0m\u001b[0;34m,\u001b[0m \u001b[0;36m3\u001b[0m\u001b[0;34m,\u001b[0m \u001b[0;36m4\u001b[0m\u001b[0;34m,\u001b[0m \u001b[0;36m5\u001b[0m\u001b[0;34m)\u001b[0m\u001b[0;34m\u001b[0m\u001b[0;34m\u001b[0m\u001b[0m\n\u001b[0;32m----> 2\u001b[0;31m \u001b[0mt\u001b[0m\u001b[0;34m[\u001b[0m\u001b[0;34m-\u001b[0m\u001b[0;36m1\u001b[0m\u001b[0;34m]\u001b[0m \u001b[0;34m=\u001b[0m \u001b[0;36m6\u001b[0m\u001b[0;34m\u001b[0m\u001b[0;34m\u001b[0m\u001b[0m\n\u001b[0m",
            "\u001b[0;31mTypeError\u001b[0m: 'tuple' object does not support item assignment"
          ]
        }
      ],
      "source": [
        "t = (1, 2, 3, 4, 5)\n",
        "t[-1] = 6"
      ]
    },
    {
      "cell_type": "markdown",
      "source": [
        "Why does the cell return an error?\n",
        "\n",
        "**The cell is returning error because cell is trying to edit the last element of the tuple and tuples are immutable. we can not edit the tupble.**"
      ],
      "metadata": {
        "id": "MRvBcf5_MqHi"
      }
    },
    {
      "cell_type": "markdown",
      "metadata": {
        "id": "_mZRdSsz0ZUd"
      },
      "source": [
        "### 9."
      ]
    },
    {
      "cell_type": "markdown",
      "metadata": {
        "id": "wxSZcLJB0ZUd"
      },
      "source": [
        "Use string methods to extract the website domain from an email, e.g., from the string `\"tomas.beuzen@fakemail.com\"`, you should extract `\"fakemail\"`."
      ]
    },
    {
      "cell_type": "code",
      "execution_count": null,
      "metadata": {
        "id": "l-0lXE3l0ZUe",
        "colab": {
          "base_uri": "https://localhost:8080/"
        },
        "outputId": "222c2ab2-525e-4a88-ca0d-adec5262b014"
      },
      "outputs": [
        {
          "output_type": "stream",
          "name": "stdout",
          "text": [
            "The extracted website domain from email : fakemail\n"
          ]
        }
      ],
      "source": [
        "email = \"tomas.beuzen@fakemail.com\"\n",
        "\n",
        "# Your answer here.\n",
        " \n",
        "# domain name using splitting \n",
        "res = email.split('@')[1][0:8]\n",
        "  \n",
        "# printing result \n",
        "print(\"The extracted website domain from email : \" + str(res)) "
      ]
    },
    {
      "cell_type": "markdown",
      "metadata": {
        "id": "qm2J2cDa0ZUe"
      },
      "source": [
        "### 10."
      ]
    },
    {
      "cell_type": "markdown",
      "metadata": {
        "id": "CMN-m3I50ZUe"
      },
      "source": [
        "Given the variable `language` which contains a string, use `if/elif/else` to write a program that:\n",
        "- return \"I love snakes!\" if `language` is `\"python\"` (any kind of capitalization)\n",
        "- return \"Are you a pirate?\" if `language` is `\"R\"` (any kind of capitalization)\n",
        "- else return \"What is `language`?\" if `language` is anything else."
      ]
    },
    {
      "cell_type": "code",
      "execution_count": null,
      "metadata": {
        "id": "Ye1qcaIB0ZUe",
        "colab": {
          "base_uri": "https://localhost:8080/"
        },
        "outputId": "7773a89c-d0e0-4303-c242-3a07ea2efd8b"
      },
      "outputs": [
        {
          "output_type": "stream",
          "name": "stdout",
          "text": [
            "I love snakes!\n"
          ]
        }
      ],
      "source": [
        "language = \"python\"\n",
        "\n",
        "# Your answer here.\n",
        "\n",
        "if language == 'python':\n",
        "  print(('I love snakes!').capitalize())\n",
        "  if language == 'R':\n",
        "    print(('Are you a pirate').capitalize())\n",
        "else:\n",
        "  print(('what is language?').capitalize())"
      ]
    },
    {
      "cell_type": "markdown",
      "metadata": {
        "id": "lpFNbJph0ZUf"
      },
      "source": [
        "<hr>\n",
        "<hr>\n",
        "<hr>"
      ]
    }
  ],
  "metadata": {
    "kernelspec": {
      "display_name": "Python 3 (ipykernel)",
      "language": "python",
      "name": "python3"
    },
    "language_info": {
      "codemirror_mode": {
        "name": "ipython",
        "version": 3
      },
      "file_extension": ".py",
      "mimetype": "text/x-python",
      "name": "python",
      "nbconvert_exporter": "python",
      "pygments_lexer": "ipython3",
      "version": "3.9.7"
    },
    "colab": {
      "name": " Exercise-1 Basic Python_Lakshmi_Kadali_submission.ipynb",
      "provenance": [],
      "collapsed_sections": [],
      "include_colab_link": true
    }
  },
  "nbformat": 4,
  "nbformat_minor": 0
}