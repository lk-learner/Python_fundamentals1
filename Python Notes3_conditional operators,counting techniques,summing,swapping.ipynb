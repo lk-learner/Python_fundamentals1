{
 "cells": [
  {
   "cell_type": "code",
   "execution_count": null,
   "metadata": {},
   "outputs": [],
   "source": [
    "# conditional operators \n",
    "\n",
    "'''\n",
    "==  (equal)\n",
    ">=  (greaterthan or equal)\n",
    "<=  (lessthan or equal)\n",
    "!=  (not equal to)\n",
    ">   (greaterthan)\n",
    "<   (lessthan)\n",
    "\n",
    "and ----> both conditions has to meet\n",
    "or -----> one condition has to meet\n",
    "not ----> if not then do this\n",
    "\n",
    "'''"
   ]
  },
  {
   "cell_type": "code",
   "execution_count": null,
   "metadata": {},
   "outputs": [],
   "source": [
    "#Counting in python;\n",
    "\"\"\"\n",
    "counting can be done in 2 steps\n",
    "step1 = initially set the variable to zero\n",
    "step2 = then increment if by 1\n",
    "\n",
    "\"\"\""
   ]
  },
  {
   "cell_type": "code",
   "execution_count": null,
   "metadata": {},
   "outputs": [],
   "source": [
    "#swapping of veriable is acceptable in python."
   ]
  },
  {
   "cell_type": "code",
   "execution_count": null,
   "metadata": {},
   "outputs": [],
   "source": [
    "\"\"\"\n",
    "In python we can swap variable by writing :\n",
    "\n",
    "x=5\n",
    "y=3\n",
    "x,y=y,x\n",
    "print(x,y)\n",
    "\n",
    "\"\"\""
   ]
  }
 ],
 "metadata": {
  "kernelspec": {
   "display_name": "Python 3",
   "language": "python",
   "name": "python3"
  },
  "language_info": {
   "codemirror_mode": {
    "name": "ipython",
    "version": 3
   },
   "file_extension": ".py",
   "mimetype": "text/x-python",
   "name": "python",
   "nbconvert_exporter": "python",
   "pygments_lexer": "ipython3",
   "version": "3.7.3"
  }
 },
 "nbformat": 4,
 "nbformat_minor": 2
}
