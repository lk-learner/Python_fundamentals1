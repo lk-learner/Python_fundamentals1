{
 "cells": [
  {
   "cell_type": "markdown",
   "metadata": {},
   "source": [
    "### Problem16: Write a program that asks the user for a number of seconds and prints out how many miinutes and seconds that is for intance, 200seconds is 3minutes and 20seconds. Hint: Use the // operator to get munutes and the % operator to get seconds"
   ]
  },
  {
   "cell_type": "code",
   "execution_count": 1,
   "metadata": {},
   "outputs": [
    {
     "name": "stdout",
     "output_type": "stream",
     "text": [
      "Enter a number of seconds: 300\n",
      "Time is 5 minutes and 0 seconds.\n"
     ]
    }
   ],
   "source": [
    "s=eval(input('Enter a number of seconds: '))\n",
    "i=s//60\n",
    "j=s%60\n",
    "print('Time is',i,'minutes and',j,'seconds.')"
   ]
  },
  {
   "cell_type": "markdown",
   "metadata": {},
   "source": [
    "### Problem17: Write a program that asks the user for a number and print out the factorial of that number.\n"
   ]
  },
  {
   "cell_type": "code",
   "execution_count": 4,
   "metadata": {},
   "outputs": [
    {
     "name": "stdout",
     "output_type": "stream",
     "text": [
      "Enter a number: 5\n",
      "120\n"
     ]
    }
   ],
   "source": [
    "from math import factorial\n",
    "f=eval(input('Enter a number: '))\n",
    "i=factorial(f)\n",
    "print(i)"
   ]
  },
  {
   "cell_type": "markdown",
   "metadata": {},
   "source": [
    "### Problem18: Write a program that asks the user to enter a weight in kilograms. The program should convert it to pounds printing the answer rounded to the nearest tenth of a pound. 1kg=2.2pounds"
   ]
  },
  {
   "cell_type": "code",
   "execution_count": 5,
   "metadata": {},
   "outputs": [
    {
     "name": "stdout",
     "output_type": "stream",
     "text": [
      "Enter a weight: 3\n",
      "7\n",
      "weight 3 kgs is 7 pounds\n"
     ]
    }
   ],
   "source": [
    "i=eval(input('Enter a weight: '))\n",
    "p=i*2.2\n",
    "print(round(p))\n",
    "print('weight',i,'kgs','is',round(p),'pounds')"
   ]
  },
  {
   "cell_type": "markdown",
   "metadata": {},
   "source": [
    "### Problem19: Write a program that asks the user for a number and then prints out the sine, cosine, and tangent of that number."
   ]
  },
  {
   "cell_type": "code",
   "execution_count": 8,
   "metadata": {},
   "outputs": [
    {
     "name": "stdout",
     "output_type": "stream",
     "text": [
      "Enter a number: 90\n",
      "0.8939966636005579 -0.4480736161291701 -1.995200412208242\n"
     ]
    }
   ],
   "source": [
    "from math import sin,cos,tan\n",
    "s=eval(input('Enter a number: '))\n",
    "i=sin(s)\n",
    "j=cos(s)\n",
    "k=tan(s)\n",
    "print(i,j,k)"
   ]
  },
  {
   "cell_type": "markdown",
   "metadata": {},
   "source": [
    "### Problem20: Write a program that prints out the sine and cosine of the angle ranging from 0 to 345 in 15 increments. Each result should be rounded to 4 decimal places. Sample output is shown below: \n",
    "### 0 - 0.0  1.0\n",
    "### 15 - 0.6503  -0.7597\n",
    "### 30 - 0.988  0.1543\n",
    "### 345 - -0.544  0.8391"
   ]
  },
  {
   "cell_type": "code",
   "execution_count": 16,
   "metadata": {},
   "outputs": [
    {
     "name": "stdout",
     "output_type": "stream",
     "text": [
      "0  -  0.0 1.0\n",
      "15  -  0.6503 -0.7597\n",
      "30  -  -0.988 0.1543\n",
      "45  -  0.8509 0.5253\n",
      "60  -  -0.3048 -0.9524\n",
      "75  -  -0.3878 0.9218\n",
      "90  -  0.894 -0.4481\n",
      "105  -  -0.9705 -0.241\n",
      "120  -  0.5806 0.8142\n",
      "135  -  0.0884 -0.9961\n",
      "150  -  -0.7149 0.6993\n",
      "165  -  0.9978 -0.0663\n",
      "180  -  -0.8012 -0.5985\n",
      "195  -  0.2195 0.9756\n",
      "210  -  0.4677 -0.8839\n",
      "225  -  -0.9301 0.3673\n",
      "240  -  0.9454 0.3258\n",
      "255  -  -0.5064 -0.8623\n",
      "270  -  -0.176 0.9844\n",
      "285  -  0.7739 -0.6333\n",
      "300  -  -0.9998 -0.0221\n",
      "315  -  0.7451 0.6669\n",
      "330  -  -0.1324 -0.9912\n",
      "345  -  -0.544 0.8391\n"
     ]
    }
   ],
   "source": [
    "from math import degrees,sin,cos\n",
    "for i in range(0,346,15):\n",
    "    x=sin(i)\n",
    "    y=cos(i)\n",
    "    print(i,' - ',round(x,4),round(y,4))"
   ]
  },
  {
   "cell_type": "markdown",
   "metadata": {},
   "source": [
    "### Problem21: How to convert radians and degrees?"
   ]
  },
  {
   "cell_type": "code",
   "execution_count": 28,
   "metadata": {},
   "outputs": [
    {
     "name": "stdout",
     "output_type": "stream",
     "text": [
      "Enter a value in Radians:180\n",
      "Sin value is  -0.8011526357338304 \n",
      "Sin value in degrees 10313.240312354817\n"
     ]
    }
   ],
   "source": [
    "from math import degrees,sin\n",
    "x=eval(input('Enter a value in Radians:'))\n",
    "z=sin(x)\n",
    "y=degrees(x)\n",
    "print('Sin value is ',z,'\\nSin value in degrees', y)"
   ]
  },
  {
   "cell_type": "code",
   "execution_count": null,
   "metadata": {},
   "outputs": [],
   "source": []
  }
 ],
 "metadata": {
  "kernelspec": {
   "display_name": "Python 3",
   "language": "python",
   "name": "python3"
  },
  "language_info": {
   "codemirror_mode": {
    "name": "ipython",
    "version": 3
   },
   "file_extension": ".py",
   "mimetype": "text/x-python",
   "name": "python",
   "nbconvert_exporter": "python",
   "pygments_lexer": "ipython3",
   "version": "3.7.3"
  }
 },
 "nbformat": 4,
 "nbformat_minor": 2
}
