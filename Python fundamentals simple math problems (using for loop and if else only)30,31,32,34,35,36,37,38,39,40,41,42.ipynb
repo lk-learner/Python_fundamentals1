{
 "cells": [
  {
   "cell_type": "markdown",
   "metadata": {},
   "source": [
    "### Problem30: Write a program that asks the user to enter a number and prints out all the divisors, program shold throw and error. If user enters a negative number or o print a list of all the number that are not divisable."
   ]
  },
  {
   "cell_type": "code",
   "execution_count": 15,
   "metadata": {},
   "outputs": [
    {
     "name": "stdout",
     "output_type": "stream",
     "text": [
      "Enter a number: 6\n",
      "4\n",
      "5\n"
     ]
    }
   ],
   "source": [
    "a=eval(input('Enter a number: '))\n",
    "if a>0:\n",
    "    for i in range(1,a+1):\n",
    "        b=a%i\n",
    "        if b!=0:\n",
    "            print(i)      \n",
    "else:\n",
    "    print('Error')"
   ]
  },
  {
   "cell_type": "code",
   "execution_count": null,
   "metadata": {},
   "outputs": [],
   "source": []
  },
  {
   "cell_type": "markdown",
   "metadata": {},
   "source": [
    "### Problem31: A store charges 12dollars per item if you buy less than 10items. If you buy between 10 and 99 items, the cost is 10dollars per item. If you buy 100 or more items, the cost is 7dollars per item. Write a program that asks the user how many items they are buying and prints the total cost."
   ]
  },
  {
   "cell_type": "code",
   "execution_count": 30,
   "metadata": {},
   "outputs": [
    {
     "name": "stdout",
     "output_type": "stream",
     "text": [
      "How many items are you are buying? 100\n",
      "Each item costs $7. \n",
      "Your total cost is $ 700\n"
     ]
    }
   ],
   "source": [
    "a=eval(input('How many items are you are buying? '))\n",
    "if a<10:\n",
    "    Total_cost=a*12\n",
    "    print('Each item costs $12.','\\nYour total cost is $',Total_cost)\n",
    "if a>=10 and a<=99:\n",
    "    Total_cost=a*10\n",
    "    print('Each item costs $10.','\\nYour total cost is $',Total_cost)\n",
    "if a>=100:\n",
    "    Total_cost=a*7\n",
    "    print('Each item costs $7.','\\nYour total cost is $',Total_cost)\n"
   ]
  },
  {
   "cell_type": "code",
   "execution_count": null,
   "metadata": {},
   "outputs": [],
   "source": []
  },
  {
   "cell_type": "markdown",
   "metadata": {},
   "source": [
    "### Problem32: A year is a leap year if it is divisible by 4 except that years divisible by 100 are not leap years unless they are also divisible by 400. Write a program that asks the user for a year and prints out whether it is a leap year or not."
   ]
  },
  {
   "cell_type": "code",
   "execution_count": 39,
   "metadata": {},
   "outputs": [
    {
     "name": "stdout",
     "output_type": "stream",
     "text": [
      "Enter a year: 2016\n",
      "2016 is a leap year.\n"
     ]
    }
   ],
   "source": [
    "a=eval(input('Enter a year: '))\n",
    "if a%4==0 and a%100!=0 and a%400!=0:\n",
    "    print(a,'is a leap year.')\n",
    "else:\n",
    "    print(a,'is not a leap year.')"
   ]
  },
  {
   "cell_type": "code",
   "execution_count": null,
   "metadata": {},
   "outputs": [],
   "source": []
  },
  {
   "cell_type": "markdown",
   "metadata": {},
   "source": [
    "### Problem33: A jar of holloween candy contains and unknown amount of candy and if you can guess exactly how much candy is in the bowl, then you win all the candy. You ask the person in charge the following: If the candy is divided evenly among 5people, how many pieces would be left over? The answer is 2pieces. You then ask about dividing the candy evenly among 6 people, and  the amound left over is 3 pieces. Finally, you ask about dividing the candy evenly among 7 people, and the amount left over is 2 pieces. By looking at the bowl you can tell that there are less than 200 pieces. Write a program to determine how many pieces are in the bowl."
   ]
  },
  {
   "cell_type": "code",
   "execution_count": 41,
   "metadata": {},
   "outputs": [
    {
     "name": "stdout",
     "output_type": "stream",
     "text": [
      "177 is the answer!\n"
     ]
    }
   ],
   "source": [
    "for candies in range(200):\n",
    "    if (candies % 5 != 2):\n",
    "        continue\n",
    "    if (candies % 6 != 3):\n",
    "        continue\n",
    "    if (candies % 7 != 2):\n",
    "        continue\n",
    "\n",
    "    print(str(candies) + \" is the answer!\")\n",
    "    break"
   ]
  },
  {
   "cell_type": "code",
   "execution_count": null,
   "metadata": {},
   "outputs": [],
   "source": []
  },
  {
   "cell_type": "markdown",
   "metadata": {},
   "source": [
    "### Problem34: Write a program that asks the user how many credits they have taken. If they have taken 23 or less, print that the student is a freshman. If they have taken between 24 and 53, print that they are a sophomore. The range for juniors is 54 to83, and for seniors is 84 and over."
   ]
  },
  {
   "cell_type": "code",
   "execution_count": 49,
   "metadata": {},
   "outputs": [
    {
     "name": "stdout",
     "output_type": "stream",
     "text": [
      "How many credits student have taken? 85\n",
      "Student is a senior.\n"
     ]
    }
   ],
   "source": [
    "a=eval(input('How many credits student have taken? '))\n",
    "if a<=23:\n",
    "    print('Student is a freshman.')\n",
    "if a>=24 and a<=53:\n",
    "    print('Student is a sophomore.')\n",
    "if a>=54 and a<=83:\n",
    "    print('Student is a junior.')\n",
    "if a>=84:\n",
    "    print('Student is a senior.')"
   ]
  },
  {
   "cell_type": "code",
   "execution_count": null,
   "metadata": {},
   "outputs": [],
   "source": []
  },
  {
   "cell_type": "markdown",
   "metadata": {},
   "source": [
    "### Problem35: Ask user to give 10numbers. How many numbers are greater than 10."
   ]
  },
  {
   "cell_type": "code",
   "execution_count": 54,
   "metadata": {},
   "outputs": [
    {
     "name": "stdout",
     "output_type": "stream",
     "text": [
      "Enter a number: 1\n",
      "Enter a number: 2\n",
      "Enter a number: 3\n",
      "Enter a number: 4\n",
      "Enter a number: 5\n",
      "Enter a number: 6\n",
      "Enter a number: 77\n",
      "Enter a number: 88\n",
      "Enter a number: 99\n",
      "Enter a number: 11\n",
      "There are 4 numbers greater than 10.\n"
     ]
    }
   ],
   "source": [
    "count=0\n",
    "for i in range(10):\n",
    "    num=eval(input('Enter a number: '))\n",
    "    if num>10:\n",
    "        count+=1\n",
    "        continue\n",
    "print('There are',count,'numbers greater than 10.')\n"
   ]
  },
  {
   "cell_type": "code",
   "execution_count": null,
   "metadata": {},
   "outputs": [],
   "source": []
  },
  {
   "cell_type": "markdown",
   "metadata": {},
   "source": [
    "### Problem36: Ask user to give 10numbers. How many numbers are greater than 10 also how many are equal to zero."
   ]
  },
  {
   "cell_type": "code",
   "execution_count": 57,
   "metadata": {},
   "outputs": [
    {
     "name": "stdout",
     "output_type": "stream",
     "text": [
      "Enter a number: 1\n",
      "Enter a number: 3\n",
      "Enter a number: 0\n",
      "Enter a number: 22\n",
      "Enter a number: 55\n",
      "Enter a number: 0\n",
      "Enter a number: 6\n",
      "Enter a number: 7\n",
      "Enter a number: 8\n",
      "Enter a number: 1\n",
      "There are 8 numbers lessthan 10.\n",
      "There are 0 numbers equal to 0.\n"
     ]
    }
   ],
   "source": [
    "count=0\n",
    "count1=0\n",
    "for i in range(10):\n",
    "    num=eval(input('Enter a number: '))\n",
    "    if num<10:\n",
    "        count+=1\n",
    "        continue\n",
    "    if num==0:\n",
    "        count1+=1\n",
    "        continue\n",
    "print('There are',count,'numbers lessthan 10.')\n",
    "print('There are',count1,'numbers equal to 0.')"
   ]
  },
  {
   "cell_type": "code",
   "execution_count": null,
   "metadata": {},
   "outputs": [],
   "source": []
  },
  {
   "cell_type": "markdown",
   "metadata": {},
   "source": [
    "### Problem37: Add a bunch of numbers"
   ]
  },
  {
   "cell_type": "code",
   "execution_count": 58,
   "metadata": {},
   "outputs": [
    {
     "name": "stdout",
     "output_type": "stream",
     "text": [
      "Sum is: 45\n"
     ]
    }
   ],
   "source": [
    "s=0\n",
    "for i in range(1,10):\n",
    "    s+=i\n",
    "print('Sum is:',s)"
   ]
  },
  {
   "cell_type": "code",
   "execution_count": null,
   "metadata": {},
   "outputs": [],
   "source": []
  },
  {
   "cell_type": "markdown",
   "metadata": {},
   "source": [
    "### Problem38: Ask 10 number from user and find average those numbers."
   ]
  },
  {
   "cell_type": "code",
   "execution_count": 2,
   "metadata": {},
   "outputs": [
    {
     "name": "stdout",
     "output_type": "stream",
     "text": [
      "Enter 10 numbers: 1\n",
      "Enter 10 numbers: 2\n",
      "Enter 10 numbers: 3\n",
      "Enter 10 numbers: 4\n",
      "Enter 10 numbers: 5\n",
      "Enter 10 numbers: 6\n",
      "Enter 10 numbers: 7\n",
      "Enter 10 numbers: 8\n",
      "Enter 10 numbers: 9\n",
      "Enter 10 numbers: 10\n",
      "Numbers are: 9 \n",
      "Sum= 55 \n",
      "Average=  5.5\n"
     ]
    }
   ],
   "source": [
    "s=0\n",
    "for i in range(10):\n",
    "    n=eval(input('Enter 10 numbers: '))\n",
    "    s+=n\n",
    "    a=s/10\n",
    "print('Numbers are:',i,'\\nSum=',s,'\\nAverage= ',a)"
   ]
  },
  {
   "cell_type": "code",
   "execution_count": null,
   "metadata": {},
   "outputs": [],
   "source": []
  },
  {
   "cell_type": "markdown",
   "metadata": {},
   "source": [
    "### Problem39: Write a program that counts how many of the squares of the numbers from 1 to 100 end in a 1"
   ]
  },
  {
   "cell_type": "code",
   "execution_count": 30,
   "metadata": {},
   "outputs": [
    {
     "name": "stdout",
     "output_type": "stream",
     "text": [
      "The square number from 1 to 100 end in a 1 is:  1\n",
      "The square number from 1 to 100 end in a 1 is:  81\n",
      "There are 2 square number from 1 to 100 end in a 1.\n"
     ]
    }
   ],
   "source": [
    "count=0\n",
    "for i in range(1,101,10):\n",
    "    for j in range(1,101,1):\n",
    "        if i==j*j:\n",
    "            print('The square number from 1 to 100 end in a 1 is: ',i)\n",
    "            count+=1\n",
    "print('There are',count,'square number from 1 to 100 end in a 1.')"
   ]
  },
  {
   "cell_type": "code",
   "execution_count": null,
   "metadata": {},
   "outputs": [],
   "source": []
  },
  {
   "cell_type": "markdown",
   "metadata": {},
   "source": [
    "### Problem40: Write a program that counts how many of the squares of the numbers from 1 to 100 end in a 4 and how many end in a 9"
   ]
  },
  {
   "cell_type": "code",
   "execution_count": 31,
   "metadata": {},
   "outputs": [
    {
     "name": "stdout",
     "output_type": "stream",
     "text": [
      "The square number from 1 to 100 end in a 4 is:  4\n",
      "The square number from 1 to 100 end in a 4 is:  64\n",
      "There are 2 square number from 1 to 100 end in a 4.\n",
      "The square number from 1 to 100 end in a 9 is:  9\n",
      "The square number from 1 to 100 end in a 9 is:  49\n",
      "There are 2 square number from 1 to 100 end in a 9.\n"
     ]
    }
   ],
   "source": [
    "count=0\n",
    "for i in range(4,101,10):\n",
    "    for j in range(2,101,1):\n",
    "        if i==j*j:\n",
    "            print('The square number from 1 to 100 end in a 4 is: ',i)\n",
    "            count+=1\n",
    "print('There are',count,'square number from 1 to 100 end in a 4.')\n",
    "count=0\n",
    "for i in range(9,101,10):\n",
    "    for j in range(2,101,1):\n",
    "        if i==j*j:\n",
    "            print('The square number from 1 to 100 end in a 9 is: ',i)\n",
    "            count+=1\n",
    "print('There are',count,'square number from 1 to 100 end in a 9.')"
   ]
  },
  {
   "cell_type": "code",
   "execution_count": null,
   "metadata": {},
   "outputs": [],
   "source": []
  },
  {
   "cell_type": "markdown",
   "metadata": {},
   "source": [
    "### Problem41: Write a program that swaps the values of three variables x,y,and,z. So that x gets the values of y, y gets the values of z, and z gets the value of x."
   ]
  },
  {
   "cell_type": "code",
   "execution_count": 34,
   "metadata": {},
   "outputs": [
    {
     "name": "stdout",
     "output_type": "stream",
     "text": [
      "x= 10 \n",
      "y= 6 \n",
      "z= 5\n"
     ]
    }
   ],
   "source": [
    "x=5\n",
    "y=10\n",
    "z=6\n",
    "x,y,z=y,z,x\n",
    "print('x=',x,'\\ny=',y,'\\nz=',z)"
   ]
  },
  {
   "cell_type": "code",
   "execution_count": null,
   "metadata": {},
   "outputs": [],
   "source": []
  },
  {
   "cell_type": "markdown",
   "metadata": {},
   "source": [
    "### Problem42: Write a program to count how many integers from 1 to 1000 are not perfect  squares, perfect cubes, or perfect fifth powers."
   ]
  },
  {
   "cell_type": "code",
   "execution_count": 31,
   "metadata": {},
   "outputs": [
    {
     "name": "stdout",
     "output_type": "stream",
     "text": [
      "2 3 5 6 7 8 10 11 12 13 14 15 17 18 19 20 21 22 23 24 26 27 28 29 30 31 32 33 34 35 37 38 39 40 41 42 43 44 45 46 47 48 50 51 52 53 54 55 56 57 58 59 60 61 62 63 65 66 67 68 69 70 71 72 73 74 75 76 77 78 79 80 82 83 84 85 86 87 88 89 90 91 92 93 94 95 96 97 98 99 101 102 103 104 105 106 107 108 109 110 111 112 113 114 115 116 117 118 119 120 122 123 124 125 126 127 128 129 130 131 132 133 134 135 136 137 138 139 140 141 142 143 145 146 147 148 149 150 151 152 153 154 155 156 157 158 159 160 161 162 163 164 165 166 167 168 170 171 172 173 174 175 176 177 178 179 180 181 182 183 184 185 186 187 188 189 190 191 192 193 194 195 197 198 199 200 201 202 203 204 205 206 207 208 209 210 211 212 213 214 215 216 217 218 219 220 221 222 223 224 226 227 228 229 230 231 232 233 234 235 236 237 238 239 240 241 242 243 244 245 246 247 248 249 250 251 252 253 254 255 257 258 259 260 261 262 263 264 265 266 267 268 269 270 271 272 273 274 275 276 277 278 279 280 281 282 283 284 285 286 287 288 290 291 292 293 294 295 296 297 298 299 300 301 302 303 304 305 306 307 308 309 310 311 312 313 314 315 316 317 318 319 320 321 322 323 325 326 327 328 329 330 331 332 333 334 335 336 337 338 339 340 341 342 343 344 345 346 347 348 349 350 351 352 353 354 355 356 357 358 359 360 362 363 364 365 366 367 368 369 370 371 372 373 374 375 376 377 378 379 380 381 382 383 384 385 386 387 388 389 390 391 392 393 394 395 396 397 398 399 401 402 403 404 405 406 407 408 409 410 411 412 413 414 415 416 417 418 419 420 421 422 423 424 425 426 427 428 429 430 431 432 433 434 435 436 437 438 439 440 442 443 444 445 446 447 448 449 450 451 452 453 454 455 456 457 458 459 460 461 462 463 464 465 466 467 468 469 470 471 472 473 474 475 476 477 478 479 480 481 482 483 485 486 487 488 489 490 491 492 493 494 495 496 497 498 499 500 501 502 503 504 505 506 507 508 509 510 511 512 513 514 515 516 517 518 519 520 521 522 523 524 525 526 527 528 530 531 532 533 534 535 536 537 538 539 540 541 542 543 544 545 546 547 548 549 550 551 552 553 554 555 556 557 558 559 560 561 562 563 564 565 566 567 568 569 570 571 572 573 574 575 577 578 579 580 581 582 583 584 585 586 587 588 589 590 591 592 593 594 595 596 597 598 599 600 601 602 603 604 605 606 607 608 609 610 611 612 613 614 615 616 617 618 619 620 621 622 623 624 626 627 628 629 630 631 632 633 634 635 636 637 638 639 640 641 642 643 644 645 646 647 648 649 650 651 652 653 654 655 656 657 658 659 660 661 662 663 664 665 666 667 668 669 670 671 672 673 674 675 677 678 679 680 681 682 683 684 685 686 687 688 689 690 691 692 693 694 695 696 697 698 699 700 701 702 703 704 705 706 707 708 709 710 711 712 713 714 715 716 717 718 719 720 721 722 723 724 725 726 727 728 730 731 732 733 734 735 736 737 738 739 740 741 742 743 744 745 746 747 748 749 750 751 752 753 754 755 756 757 758 759 760 761 762 763 764 765 766 767 768 769 770 771 772 773 774 775 776 777 778 779 780 781 782 783 785 786 787 788 789 790 791 792 793 794 795 796 797 798 799 800 801 802 803 804 805 806 807 808 809 810 811 812 813 814 815 816 817 818 819 820 821 822 823 824 825 826 827 828 829 830 831 832 833 834 835 836 837 838 839 840 842 843 844 845 846 847 848 849 850 851 852 853 854 855 856 857 858 859 860 861 862 863 864 865 866 867 868 869 870 871 872 873 874 875 876 877 878 879 880 881 882 883 884 885 886 887 888 889 890 891 892 893 894 895 896 897 898 899 901 902 903 904 905 906 907 908 909 910 911 912 913 914 915 916 917 918 919 920 921 922 923 924 925 926 927 928 929 930 931 932 933 934 935 936 937 938 939 940 941 942 943 944 945 946 947 948 949 950 951 952 953 954 955 956 957 958 959 960 962 963 964 965 966 967 968 969 970 971 972 973 974 975 976 977 978 979 980 981 982 983 984 985 986 987 988 989 990 991 992 993 994 995 996 997 998 999 1000 \n",
      "There are 969 not perfect squares from 1 to 1000\n"
     ]
    }
   ],
   "source": [
    "count=0\n",
    "count1=0\n",
    "for i in range(1,1001):\n",
    "    for j in range(1,33):\n",
    "        if i==j*j:\n",
    "            count=1\n",
    "    if count == 1:\n",
    "        count = 0\n",
    "    else:\n",
    "        print(i,end=' ')\n",
    "        count1 += 1\n",
    "print('\\nThere are',count1,'not perfect squares from 1 to 1000')\n",
    "            "
   ]
  },
  {
   "cell_type": "code",
   "execution_count": null,
   "metadata": {},
   "outputs": [],
   "source": []
  },
  {
   "cell_type": "code",
   "execution_count": null,
   "metadata": {},
   "outputs": [],
   "source": []
  }
 ],
 "metadata": {
  "kernelspec": {
   "display_name": "Python 3",
   "language": "python",
   "name": "python3"
  },
  "language_info": {
   "codemirror_mode": {
    "name": "ipython",
    "version": 3
   },
   "file_extension": ".py",
   "mimetype": "text/x-python",
   "name": "python",
   "nbconvert_exporter": "python",
   "pygments_lexer": "ipython3",
   "version": "3.7.3"
  }
 },
 "nbformat": 4,
 "nbformat_minor": 2
}
