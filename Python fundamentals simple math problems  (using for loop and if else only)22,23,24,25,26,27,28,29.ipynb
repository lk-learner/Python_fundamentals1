{
 "cells": [
  {
   "cell_type": "markdown",
   "metadata": {},
   "source": [
    "### Problem22: Write a program that uses exactly four for loops to print the sequence of letter below.\n",
    "### AAAAAAAAAABBBBBBBCDCDCDEFFFFFFG"
   ]
  },
  {
   "cell_type": "code",
   "execution_count": 13,
   "metadata": {},
   "outputs": [
    {
     "name": "stdout",
     "output_type": "stream",
     "text": [
      "AAAAAAAAAABBBBBBBCDCDCDEFFFFFFG\n"
     ]
    }
   ],
   "source": [
    "for i in range(1,11):\n",
    "    i=\"A\"\n",
    "    print(i,end='')\n",
    "for j in range(1,8):\n",
    "    j=\"B\"\n",
    "    print(j,end='')\n",
    "for k in range(1,4):\n",
    "    k=\"CD\"\n",
    "    print(k,end='')\n",
    "print('E',end='')\n",
    "for l in range(1,7):\n",
    "    l=\"F\"\n",
    "    print(l,end='')\n",
    "print('G')    "
   ]
  },
  {
   "cell_type": "markdown",
   "metadata": {},
   "source": [
    "### Problem23: Write a program that uses a for loop to print the numbers 8,11,14,17,20,....,83,86,89.  Hint:Explore range function to get this output."
   ]
  },
  {
   "cell_type": "code",
   "execution_count": 15,
   "metadata": {},
   "outputs": [
    {
     "name": "stdout",
     "output_type": "stream",
     "text": [
      "8 11 14 17 20 23 26 29 32 35 38 41 44 47 50 53 56 59 62 65 68 71 74 77 80 83 86 89 "
     ]
    }
   ],
   "source": [
    "for i in range(8,90,3):\n",
    "    print(i,end=' ')"
   ]
  },
  {
   "cell_type": "markdown",
   "metadata": {},
   "source": [
    "### Problem24: Show mean of two numbers "
   ]
  },
  {
   "cell_type": "code",
   "execution_count": 24,
   "metadata": {},
   "outputs": [
    {
     "name": "stdout",
     "output_type": "stream",
     "text": [
      "3.5\n"
     ]
    }
   ],
   "source": [
    "\n",
    "x=2\n",
    "y=3\n",
    "mean=x+y/2\n",
    "print(mean)"
   ]
  },
  {
   "cell_type": "markdown",
   "metadata": {},
   "source": [
    "### Problem25: Find variance of list of numbers."
   ]
  },
  {
   "cell_type": "code",
   "execution_count": 23,
   "metadata": {},
   "outputs": [
    {
     "name": "stdout",
     "output_type": "stream",
     "text": [
      "5.8\n"
     ]
    }
   ],
   "source": [
    "from statistics import *\n",
    "list=[4,6,2,7,8]\n",
    "x=variance(list)\n",
    "print(x)"
   ]
  },
  {
   "cell_type": "markdown",
   "metadata": {},
   "source": [
    "### Problem26: Generating random number(1,10) and user guess number if user guesses correctly as a random number user gets a point."
   ]
  },
  {
   "cell_type": "code",
   "execution_count": 29,
   "metadata": {},
   "outputs": [
    {
     "name": "stdout",
     "output_type": "stream",
     "text": [
      "Guess a number: 5\n",
      "Try again\n",
      "Your guess is 3 \n",
      "Random number is 5\n"
     ]
    }
   ],
   "source": [
    "from random import randint\n",
    "n=randint(1,10)\n",
    "m=eval(input(\"Guess a number: \"))\n",
    "if n==m:\n",
    "    print('You got a point')\n",
    "else:\n",
    "    print('Try again')\n",
    "print('Your guess is',n,'\\nRandom number is',m)"
   ]
  },
  {
   "cell_type": "markdown",
   "metadata": {},
   "source": [
    "### Problem27: Write a program that asks the user to enter a length in centimeters. If the user enters a negative length the program shoud tell the user that entry is invalid otherwise the program should convert length to inches and print the result. There are 2.54 centimeters in an inch."
   ]
  },
  {
   "cell_type": "code",
   "execution_count": 41,
   "metadata": {},
   "outputs": [
    {
     "name": "stdout",
     "output_type": "stream",
     "text": [
      "Enter length in cms: 5.08\n",
      "2.0\n"
     ]
    }
   ],
   "source": [
    "l=eval(input('Enter length in cms: '))\n",
    "if l>0:\n",
    "    print(l/2.54)\n",
    "else:\n",
    "    print(\"Invalid entry\")"
   ]
  },
  {
   "cell_type": "markdown",
   "metadata": {},
   "source": [
    "### Problem28: Ask the user for a temperature. Then ask them what units. Celsius or Farenheit of the temperature is in your program should convert the temperature to the other unit. F=((9/5)c)+32 \n",
    "###            C=((5/9)F)-32"
   ]
  },
  {
   "cell_type": "code",
   "execution_count": 52,
   "metadata": {},
   "outputs": [
    {
     "name": "stdout",
     "output_type": "stream",
     "text": [
      "Enter temperature: 25\n",
      "Enter units for temperature (Farenhiet or Celsius):Celsius\n",
      "77.0 F\n"
     ]
    }
   ],
   "source": [
    "i=eval(input('Enter temperature: '))\n",
    "u=input('Enter units for temperature (Farenhiet or Celsius):')\n",
    "if u=='Celsius':\n",
    "    print(((9/5)*i)+32,\"F\")\n",
    "else:\n",
    "    print(((5/9)*i)-32,\"C\")"
   ]
  },
  {
   "cell_type": "markdown",
   "metadata": {},
   "source": [
    "### Problem29: Write a program that asks the user to enter a number and prints out all the divisors of that number."
   ]
  },
  {
   "cell_type": "code",
   "execution_count": 55,
   "metadata": {},
   "outputs": [
    {
     "name": "stdout",
     "output_type": "stream",
     "text": [
      "Enter a number: 4\n",
      "1\n",
      "2\n",
      "4\n"
     ]
    }
   ],
   "source": [
    "n=eval(input('Enter a number: '))\n",
    "for i in range(1,n+1):\n",
    "    r=n%i\n",
    "    if r==0:\n",
    "        print(i)"
   ]
  },
  {
   "cell_type": "code",
   "execution_count": null,
   "metadata": {},
   "outputs": [],
   "source": []
  }
 ],
 "metadata": {
  "kernelspec": {
   "display_name": "Python 3",
   "language": "python",
   "name": "python3"
  },
  "language_info": {
   "codemirror_mode": {
    "name": "ipython",
    "version": 3
   },
   "file_extension": ".py",
   "mimetype": "text/x-python",
   "name": "python",
   "nbconvert_exporter": "python",
   "pygments_lexer": "ipython3",
   "version": "3.7.3"
  }
 },
 "nbformat": 4,
 "nbformat_minor": 2
}
