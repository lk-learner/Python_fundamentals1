{
 "cells": [
  {
   "cell_type": "markdown",
   "metadata": {},
   "source": [
    "### Problem1:Compute average of two numbers"
   ]
  },
  {
   "cell_type": "code",
   "execution_count": 3,
   "metadata": {},
   "outputs": [
    {
     "name": "stdout",
     "output_type": "stream",
     "text": [
      "Enter your first number: 34\n",
      "Enter your second number: 34\n",
      "The average of the numbers 34 and 34 is 34.0\n"
     ]
    }
   ],
   "source": [
    "num1=eval(input(\"Enter your first number: \"))\n",
    "num2=eval(input(\"Enter your second number: \"))\n",
    "average=(num1+num2)/2\n",
    "print(\"The average of the numbers\", num1, \"and\", num2, 'is', average)"
   ]
  },
  {
   "cell_type": "markdown",
   "metadata": {},
   "source": [
    "### Problem2: Ask a user to enter a number and compute the square of that number and print the results."
   ]
  },
  {
   "cell_type": "code",
   "execution_count": 6,
   "metadata": {},
   "outputs": [
    {
     "name": "stdout",
     "output_type": "stream",
     "text": [
      "Enter your number: 13\n",
      "Square of the 13 is 169\n"
     ]
    }
   ],
   "source": [
    "num=eval(input(\"Enter your number: \"))\n",
    "print(\"Square of the\", num, \"is\", num*num)"
   ]
  },
  {
   "cell_type": "markdown",
   "metadata": {},
   "source": [
    "### Problem3: Ask a user to enter a number and print x,2x,3x,4x,5x. The output should look like x--2x--3x--4x--5x. If x=2, 2--4--6--8--10"
   ]
  },
  {
   "cell_type": "code",
   "execution_count": 9,
   "metadata": {},
   "outputs": [
    {
     "name": "stdout",
     "output_type": "stream",
     "text": [
      "Enter your number: 2\n",
      "2 -- 4 -- 6 -- 8 -- 10\n"
     ]
    }
   ],
   "source": [
    "num=eval(input(\"Enter your number: \"))\n",
    "print(num,\"--\",num*2,\"--\",num*3,\"--\",num*4,\"--\",num*5)"
   ]
  },
  {
   "cell_type": "markdown",
   "metadata": {},
   "source": [
    "### Problem4: Write a program to convert weight in kilograms. 1kg=2.2lbs"
   ]
  },
  {
   "cell_type": "code",
   "execution_count": 11,
   "metadata": {},
   "outputs": [
    {
     "name": "stdout",
     "output_type": "stream",
     "text": [
      "Enter your weight in kgs: 25\n",
      "Your weight in pounds is 55.00000000000001\n"
     ]
    }
   ],
   "source": [
    "num=eval(input(\"Enter your weight in kgs: \"))\n",
    "print(\"Your weight in pounds is\",num*2.2)"
   ]
  },
  {
   "cell_type": "markdown",
   "metadata": {},
   "source": [
    "### Problem5: Write a programs to calculate tips. Ask user for the price and percentage tip they want to leave. Then calculate tip amount and total bill amount in a presentable way."
   ]
  },
  {
   "cell_type": "code",
   "execution_count": 5,
   "metadata": {},
   "outputs": [
    {
     "name": "stdout",
     "output_type": "stream",
     "text": [
      "Enter your price: 150\n",
      "Enter your percentage tip you want to leave: 10\n",
      "Your total bill is 165.0 $\n"
     ]
    }
   ],
   "source": [
    "num=eval(input(\"Enter your price: \"))\n",
    "num1=eval(input(\"Enter your percentage tip you want to leave: \"))\n",
    "tip_amount=(num1/100)*num\n",
    "total_bill=num+tip_amount\n",
    "print(\"Your total bill is\",total_bill,\"$\")"
   ]
  },
  {
   "cell_type": "markdown",
   "metadata": {},
   "source": [
    "### Problem6: Write a program that prints your name 100 times without using loops."
   ]
  },
  {
   "cell_type": "code",
   "execution_count": 3,
   "metadata": {},
   "outputs": [
    {
     "name": "stdout",
     "output_type": "stream",
     "text": [
      "Enter your name: ram\n",
      "ramramramramramramramramramramramramramramramramramramramramramramramramramramramramramramramramramramramramramramramramramramramramramramramramramramramramramramramramramramramramramramramramramramramramramramramramramramramramramramramramramramramramramramramramramramramramramramramramramramramram\n"
     ]
    }
   ],
   "source": [
    "name=input(\"Enter your name: \")\n",
    "print(name*100)"
   ]
  },
  {
   "cell_type": "markdown",
   "metadata": {},
   "source": [
    "### Problem7: Ask user for a number, square number, repeat 3times."
   ]
  },
  {
   "cell_type": "code",
   "execution_count": 2,
   "metadata": {},
   "outputs": [
    {
     "name": "stdout",
     "output_type": "stream",
     "text": [
      "Enter your number: 4\n",
      "16\n",
      "Enter your number: 5\n",
      "25\n",
      "Enter your number: 6\n",
      "36\n"
     ]
    }
   ],
   "source": [
    "for i in range(3):\n",
    "    num=eval(input(\"Enter your number: \"))\n",
    "    a=num**2\n",
    "    print(a)"
   ]
  },
  {
   "cell_type": "markdown",
   "metadata": {},
   "source": [
    "### Problem8: ABCDCDCDCDCDE (in column)"
   ]
  },
  {
   "cell_type": "code",
   "execution_count": 3,
   "metadata": {},
   "outputs": [
    {
     "name": "stdout",
     "output_type": "stream",
     "text": [
      "A\n",
      "B\n",
      "c\n",
      "D\n",
      "c\n",
      "D\n",
      "c\n",
      "D\n",
      "c\n",
      "D\n",
      "c\n",
      "D\n",
      "E\n"
     ]
    }
   ],
   "source": [
    "print('A')\n",
    "print('B')\n",
    "for i in range(5):\n",
    "    print('c')\n",
    "    print('D')\n",
    "print('E')"
   ]
  },
  {
   "cell_type": "markdown",
   "metadata": {},
   "source": [
    "### Problem9:  \n",
    "###                 *  *  *  *  *  *\n",
    "###                 *                            *\n",
    "###                 *                            *\n",
    "###                 *  *  *  *  *  *"
   ]
  },
  {
   "cell_type": "code",
   "execution_count": 4,
   "metadata": {},
   "outputs": [
    {
     "name": "stdout",
     "output_type": "stream",
     "text": [
      "******\n",
      "Enter no of rows: 4\n",
      "Enter no of columns:6\n",
      "******\n",
      "******\n",
      "******\n",
      "******\n",
      "******\n",
      "Enter no of rows: 2\n",
      "Enter no of columns:4\n",
      "****\n",
      "****\n",
      "******\n",
      "Enter no of rows: 2\n",
      "Enter no of columns:4\n",
      "****\n",
      "****\n",
      "******\n",
      "Enter no of rows: 2\n",
      "Enter no of columns:4\n",
      "****\n",
      "****\n"
     ]
    }
   ],
   "source": [
    "for i in range(4):\n",
    "    print(\"*\"*6)\n",
    "    r=eval(input('Enter no of rows: '))\n",
    "    c=eval(input('Enter no of columns:'))\n",
    "    for r in range(r):\n",
    "        print('*'*c)"
   ]
  },
  {
   "cell_type": "code",
   "execution_count": null,
   "metadata": {},
   "outputs": [],
   "source": []
  }
 ],
 "metadata": {
  "kernelspec": {
   "display_name": "Python 3",
   "language": "python",
   "name": "python3"
  },
  "language_info": {
   "codemirror_mode": {
    "name": "ipython",
    "version": 3
   },
   "file_extension": ".py",
   "mimetype": "text/x-python",
   "name": "python",
   "nbconvert_exporter": "python",
   "pygments_lexer": "ipython3",
   "version": "3.7.3"
  }
 },
 "nbformat": 4,
 "nbformat_minor": 2
}
