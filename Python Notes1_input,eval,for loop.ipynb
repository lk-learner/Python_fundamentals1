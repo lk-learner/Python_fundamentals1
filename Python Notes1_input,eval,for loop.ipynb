{
 "cells": [
  {
   "cell_type": "code",
   "execution_count": null,
   "metadata": {},
   "outputs": [],
   "source": [
    "# Hashtag(#) is for single line comment\n",
    "# \"\"\"------\"\"\" is for multiple or paragraph commenting\n"
   ]
  },
  {
   "cell_type": "code",
   "execution_count": null,
   "metadata": {},
   "outputs": [],
   "source": [
    "# Characters are declared with quotation marks(single quotes,double quotes,triple quotes)\n",
    "#Numbers are declared: integers and float\n",
    "#with decimals------>float\n",
    "#without decimals----->integers\n"
   ]
  },
  {
   "cell_type": "code",
   "execution_count": null,
   "metadata": {},
   "outputs": [],
   "source": [
    "#validation of data can be done using type function---->type()\n",
    "#printing of data can be done using print function----->print()"
   ]
  },
  {
   "cell_type": "code",
   "execution_count": null,
   "metadata": {},
   "outputs": [],
   "source": [
    "#You can add two strings or string and integer using concatenate"
   ]
  },
  {
   "cell_type": "code",
   "execution_count": null,
   "metadata": {},
   "outputs": [],
   "source": [
    "#Input function syntax:\n",
    "\n",
    "\"\"\"\n",
    "variable name=input(\"message to user\")\n",
    "\n",
    "Example:\n",
    "\n",
    "name=input((\"Enter your name\"))\n",
    "print(\"Hello\",name)\n",
    "\n",
    "\"\"\"\n"
   ]
  },
  {
   "cell_type": "code",
   "execution_count": null,
   "metadata": {},
   "outputs": [],
   "source": [
    "#Eval function syntax:\n",
    "\n",
    "\"\"\"\n",
    "variable name=eval(input(\"message to user\"))\n",
    "\n",
    "Example:\n",
    "\n",
    "temp=eval(input((\"Enter your name\")))\n",
    "print(\"Hello\",name)\n",
    "\n",
    "\"\"\"\n"
   ]
  },
  {
   "cell_type": "code",
   "execution_count": null,
   "metadata": {},
   "outputs": [],
   "source": [
    "#for loop syntax:\n",
    "\n",
    "\"\"\" \n",
    "for variable name in range (number of times you want to print):\n",
    "    print(variable name)\n",
    "    \n",
    "Example1:\n",
    "\n",
    "for i in range(1,6):\n",
    "    print(i)\n",
    "    \n",
    "Example2:\n",
    "\n",
    "to print odd numbers\n",
    "\n",
    "for i in range(1,10,2)\n",
    "    print(i)\n",
    "\n",
    "\"\"\""
   ]
  },
  {
   "cell_type": "code",
   "execution_count": null,
   "metadata": {},
   "outputs": [],
   "source": []
  }
 ],
 "metadata": {
  "kernelspec": {
   "display_name": "Python 3",
   "language": "python",
   "name": "python3"
  },
  "language_info": {
   "codemirror_mode": {
    "name": "ipython",
    "version": 3
   },
   "file_extension": ".py",
   "mimetype": "text/x-python",
   "name": "python",
   "nbconvert_exporter": "python",
   "pygments_lexer": "ipython3",
   "version": "3.7.3"
  }
 },
 "nbformat": 4,
 "nbformat_minor": 2
}
